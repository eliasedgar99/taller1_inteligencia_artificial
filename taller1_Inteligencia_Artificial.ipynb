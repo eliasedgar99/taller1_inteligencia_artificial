{
  "nbformat": 4,
  "nbformat_minor": 0,
  "metadata": {
    "colab": {
      "provenance": [],
      "authorship_tag": "ABX9TyNNXRDwWEZLD/zA8hLsSXSz",
      "include_colab_link": true
    },
    "kernelspec": {
      "name": "python3",
      "display_name": "Python 3"
    },
    "language_info": {
      "name": "python"
    }
  },
  "cells": [
    {
      "cell_type": "markdown",
      "metadata": {
        "id": "view-in-github",
        "colab_type": "text"
      },
      "source": [
        "<a href=\"https://colab.research.google.com/github/eliasedgar99/taller1_inteligencia_artificial/blob/main/taller1_Inteligencia_Artificial.ipynb\" target=\"_parent\"><img src=\"https://colab.research.google.com/assets/colab-badge.svg\" alt=\"Open In Colab\"/></a>"
      ]
    },
    {
      "cell_type": "code",
      "source": [
        "import heapq\n",
        "\n",
        "# Definimos las dimensiones de la cuadrícula\n",
        "GRID_SIZE = 10\n",
        "\n",
        "# Definimos las direcciones posibles (arriba, abajo, izquierda, derecha, y diagonales)\n",
        "DIRECTIONS = [(-1, 0), (1, 0), (0, -1), (0, 1), (-1, -1), (-1, 1), (1, -1), (1, 1)]\n",
        "\n",
        "def heuristic(a, b):\n",
        "    \"\"\"Función heurística usando la distancia de Chebyshev para considerar movimientos diagonales.\"\"\"\n",
        "    return max(abs(a[0] - b[0]), abs(a[1] - b[1]))\n",
        "\n",
        "def a_star_search(start, goal, grid):\n",
        "    \"\"\"Implementación del algoritmo A* en una cuadrícula con movimientos diagonales.\"\"\"\n",
        "    # El set de nodos visitados\n",
        "    open_set = []\n",
        "    heapq.heappush(open_set, (0, start))\n",
        "\n",
        "    # Mantenemos un diccionario de donde hemos venido\n",
        "    came_from = {}\n",
        "\n",
        "    # Costos acumulados desde el inicio\n",
        "    g_score = {start: 0}\n",
        "\n",
        "    # F-scores para priorizar nodos\n",
        "    f_score = {start: heuristic(start, goal)}\n",
        "\n",
        "    while open_set:\n",
        "        # Seleccionamos el nodo con menor f_score\n",
        "        current = heapq.heappop(open_set)[1]\n",
        "\n",
        "        # Si llegamos al objetivo, reconstruimos el camino\n",
        "        if current == goal:\n",
        "            return reconstruct_path(came_from, current)\n",
        "\n",
        "        for direction in DIRECTIONS:\n",
        "            neighbor = (current[0] + direction[0], current[1] + direction[1])\n",
        "\n",
        "            # Verificamos si el vecino está dentro de la cuadrícula y no es un obstáculo\n",
        "            if 0 <= neighbor[0] < GRID_SIZE and 0 <= neighbor[1] < GRID_SIZE and not grid[neighbor[0]][neighbor[1]]:\n",
        "                tentative_g_score = g_score[current] + 1\n",
        "\n",
        "                if neighbor not in g_score or tentative_g_score < g_score[neighbor]:\n",
        "                    # Actualizamos los costos\n",
        "                    came_from[neighbor] = current\n",
        "                    g_score[neighbor] = tentative_g_score\n",
        "                    f_score[neighbor] = tentative_g_score + heuristic(neighbor, goal)\n",
        "                    heapq.heappush(open_set, (f_score[neighbor], neighbor))\n",
        "\n",
        "    return None  # Retorna None si no hay camino\n",
        "\n",
        "def reconstruct_path(came_from, current):\n",
        "    \"\"\"Reconstruye el camino desde el objetivo hasta el inicio.\"\"\"\n",
        "    total_path = [current]\n",
        "    while current in came_from:\n",
        "        current = came_from[current]\n",
        "        total_path.append(current)\n",
        "    return total_path[::-1]  # Retorna el camino invertido para que vaya del inicio al objetivo\n",
        "\n",
        "def print_grid(grid, path=None):\n",
        "    \"\"\"Función para imprimir la cuadrícula y el camino.\"\"\"\n",
        "    for i in range(GRID_SIZE):\n",
        "        for j in range(GRID_SIZE):\n",
        "            if path and (i, j) in path:\n",
        "                print(\"P\", end=\" \")\n",
        "            elif grid[i][j] == 1:\n",
        "                print(\"X\", end=\" \")\n",
        "            else:\n",
        "                print(\".\", end=\" \")\n",
        "        print()\n",
        "    print()\n",
        "\n",
        "# Configuración de la cuadrícula (0 = libre, 1 = obstáculo)\n",
        "grid = [[0]*GRID_SIZE for _ in range(GRID_SIZE)]\n",
        "\n",
        "# Ejemplo de obstáculos\n",
        "grid[1][9] = 1\n",
        "grid[2][9] = 1\n",
        "grid[3][9] = 1\n",
        "grid[4][9] = 1\n",
        "grid[5][9] = 1\n",
        "grid[5][5] = 1\n",
        "\n",
        "# Definimos los puntos de inicio y fin\n",
        "start = (0, 0)\n",
        "goal = (9, 9)\n",
        "\n",
        "# Ejecutamos el algoritmo A*\n",
        "path = a_star_search(start, goal, grid)\n",
        "\n",
        "# Mostramos la cuadrícula y el camino encontrado\n",
        "if path:\n",
        "    print(\"Ruta encontrada:\")\n",
        "    print_grid(grid, path)\n",
        "else:\n",
        "    print(\"No se encontró un camino.\")\n"
      ],
      "metadata": {
        "colab": {
          "base_uri": "https://localhost:8080/"
        },
        "id": "-zNczRlr2lAz",
        "outputId": "3631a8db-376c-4c1c-88f2-a7a00597119b"
      },
      "execution_count": 43,
      "outputs": [
        {
          "output_type": "stream",
          "name": "stdout",
          "text": [
            "Ruta encontrada:\n",
            "P . . . . . . . . . \n",
            ". P . . . . . . . X \n",
            ". . P . . . . . . X \n",
            ". . . P . . . . . X \n",
            ". . . . P P . . . X \n",
            ". . . . . X P . . X \n",
            ". . . . . . P . . . \n",
            ". . . . . . . P . . \n",
            ". . . . . . . . P . \n",
            ". . . . . . . . . P \n",
            "\n"
          ]
        }
      ]
    },
    {
      "cell_type": "code",
      "source": [
        "import matplotlib.pyplot as plt\n",
        "\n",
        "# Graficamos la cuadrícula\n",
        "plt.figure(figsize=(6, 6))\n",
        "plt.imshow([[1 if cell == 1 else 0 for cell in row] for row in grid], cmap='binary')\n",
        "\n",
        "# Si se encontró un camino, lo graficamos\n",
        "if path:\n",
        "    x_coords, y_coords = zip(*path)\n",
        "    plt.plot(y_coords, x_coords, color='red')\n",
        "\n",
        "# Configuramos los ejes y mostramos la gráfica\n",
        "plt.xticks(range(GRID_SIZE))\n",
        "plt.yticks(range(GRID_SIZE))\n",
        "plt.xlabel('Columna')\n",
        "plt.ylabel('Fila')\n",
        "plt.title('Búsqueda A*')\n",
        "plt.grid(True)\n",
        "plt.show()\n"
      ],
      "metadata": {
        "colab": {
          "base_uri": "https://localhost:8080/",
          "height": 565
        },
        "id": "9hBIdrb3x156",
        "outputId": "ed740eb5-7777-485a-c3b2-e0825071341f"
      },
      "execution_count": 44,
      "outputs": [
        {
          "output_type": "display_data",
          "data": {
            "text/plain": [
              "<Figure size 600x600 with 1 Axes>"
            ],
            "image/png": "[encoded data removed]"
          },
          "metadata": {}
        }
      ]
    }
  ]
}